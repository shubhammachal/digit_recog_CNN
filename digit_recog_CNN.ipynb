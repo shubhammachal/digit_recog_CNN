{
  "cells": [
    {
      "cell_type": "markdown",
      "metadata": {
        "id": "JmeTNIkv_U3J"
      },
      "source": [
        "# Simple CNN for MNIST\n"
      ]
    },
    {
      "cell_type": "markdown",
      "metadata": {
        "id": "D-xWqYId_U3M"
      },
      "source": [
        "## Setup"
      ]
    },
    {
      "cell_type": "code",
      "execution_count": 2,
      "metadata": {
        "id": "Fx2kxhdh_U3N"
      },
      "outputs": [],
      "source": [
        "import numpy as np\n",
        "from tensorflow import keras\n",
        "from tensorflow.keras import layers\n",
        "from tensorflow.keras.models import Sequential\n",
        "from tensorflow.keras.layers import Conv2D, Flatten, Dropout, Dense, MaxPooling2D"
      ]
    },
    {
      "cell_type": "markdown",
      "metadata": {
        "id": "dq6m6gFl_U3O"
      },
      "source": [
        "## Prepare the data"
      ]
    },
    {
      "cell_type": "code",
      "execution_count": 3,
      "metadata": {
        "id": "50ZpbPVg_U3O",
        "colab": {
          "base_uri": "https://localhost:8080/"
        },
        "outputId": "cba2b6b1-7535-4375-aa5d-28c2c4b9ef0c"
      },
      "outputs": [
        {
          "output_type": "stream",
          "name": "stdout",
          "text": [
            "Downloading data from https://storage.googleapis.com/tensorflow/tf-keras-datasets/mnist.npz\n",
            "11490434/11490434 [==============================] - 2s 0us/step\n",
            "x_train shape: (60000, 28, 28, 1)\n",
            "60000 train samples\n",
            "10000 test samples\n"
          ]
        }
      ],
      "source": [
        "# Model / data parameters\n",
        "num_classes = 10\n",
        "input_shape = (28, 28, 1)\n",
        "\n",
        "# Load the data and split it between train and test sets\n",
        "(x_train, y_train), (x_test, y_test) = keras.datasets.mnist.load_data()\n",
        "\n",
        "# Scale images to the [0, 1] range\n",
        "x_train = x_train.astype(\"float32\") / 255\n",
        "x_test = x_test.astype(\"float32\") / 255\n",
        "# Make sure images have shape (28, 28, 1)\n",
        "x_train = np.expand_dims(x_train, -1)\n",
        "x_test = np.expand_dims(x_test, -1)\n",
        "print(\"x_train shape:\", x_train.shape)\n",
        "print(x_train.shape[0], \"train samples\")\n",
        "print(x_test.shape[0], \"test samples\")\n",
        "\n",
        "\n",
        "# convert class vectors to binary class matrices\n",
        "y_train = keras.utils.to_categorical(y_train, num_classes)\n",
        "y_test = keras.utils.to_categorical(y_test, num_classes)"
      ]
    },
    {
      "cell_type": "markdown",
      "metadata": {
        "id": "cMBBjbgD_U3P"
      },
      "source": [
        "## Build the model"
      ]
    },
    {
      "cell_type": "code",
      "execution_count": 11,
      "metadata": {
        "id": "iBoQzBB9_U3Q",
        "colab": {
          "base_uri": "https://localhost:8080/"
        },
        "outputId": "a77cbaf8-4ed5-470d-b478-22cd88472772"
      },
      "outputs": [
        {
          "output_type": "stream",
          "name": "stdout",
          "text": [
            "Model: \"sequential_1\"\n",
            "_________________________________________________________________\n",
            " Layer (type)                Output Shape              Param #   \n",
            "=================================================================\n",
            " conv2d_5 (Conv2D)           (None, 26, 26, 8)         80        \n",
            "                                                                 \n",
            " max_pooling2d_3 (MaxPoolin  (None, 13, 13, 8)         0         \n",
            " g2D)                                                            \n",
            "                                                                 \n",
            " conv2d_6 (Conv2D)           (None, 11, 11, 16)        1168      \n",
            "                                                                 \n",
            " max_pooling2d_4 (MaxPoolin  (None, 3, 3, 16)          0         \n",
            " g2D)                                                            \n",
            "                                                                 \n",
            " flatten_1 (Flatten)         (None, 144)               0         \n",
            "                                                                 \n",
            " dropout_1 (Dropout)         (None, 144)               0         \n",
            "                                                                 \n",
            " dense (Dense)               (None, 10)                1450      \n",
            "                                                                 \n",
            "=================================================================\n",
            "Total params: 2698 (10.54 KB)\n",
            "Trainable params: 2698 (10.54 KB)\n",
            "Non-trainable params: 0 (0.00 Byte)\n",
            "_________________________________________________________________\n"
          ]
        }
      ],
      "source": [
        "model = keras.Sequential(\n",
        "    [\n",
        "        # To-do\n",
        "        keras.Input(shape=input_shape),  # Define the input shape of the model\n",
        "        # Add a convolutional layer with 8 filters and ReLU activation\n",
        "        Conv2D(filters = 8,kernel_size = (3,3), activation = 'relu'),\n",
        "        MaxPooling2D(pool_size = (2,2)),# Add a max pooling layer with pool size 2x2\n",
        "        Conv2D(filters = 16, kernel_size = (3,3), activation = 'relu'),# Add another convolutional layer with 16 filters and ReLU activation\n",
        "        MaxPooling2D(pool_size = (3,3)),# Add another max pooling layer with pool size 2x2\n",
        "        Flatten(),# Flatten the 2D feature maps into a 1D vector\n",
        "        Dropout(0.5),# Apply dropout regularization with a rate of 0.5\n",
        "        Dense(units = num_classes, activation = 'softmax')# Add a dense (fully connected) layer with softmax activation for classification\n",
        "    ]\n",
        ")\n",
        "\n",
        "model.summary()"
      ]
    },
    {
      "cell_type": "markdown",
      "metadata": {
        "id": "3_cFZMbv_U3Q"
      },
      "source": [
        "## Train the model"
      ]
    },
    {
      "cell_type": "code",
      "execution_count": 12,
      "metadata": {
        "id": "96th78xc_U3R",
        "colab": {
          "base_uri": "https://localhost:8080/"
        },
        "outputId": "bb85227a-5e80-4d4b-95d4-128f0e7d7996"
      },
      "outputs": [
        {
          "output_type": "stream",
          "name": "stdout",
          "text": [
            "Epoch 1/15\n",
            "422/422 [==============================] - 13s 5ms/step - loss: 1.0700 - accuracy: 0.6446 - val_loss: 0.2195 - val_accuracy: 0.9477\n",
            "Epoch 2/15\n",
            "422/422 [==============================] - 2s 4ms/step - loss: 0.3838 - accuracy: 0.8812 - val_loss: 0.1442 - val_accuracy: 0.9628\n",
            "Epoch 3/15\n",
            "422/422 [==============================] - 3s 6ms/step - loss: 0.3114 - accuracy: 0.9037 - val_loss: 0.1224 - val_accuracy: 0.9687\n",
            "Epoch 4/15\n",
            "422/422 [==============================] - 3s 6ms/step - loss: 0.2801 - accuracy: 0.9145 - val_loss: 0.1154 - val_accuracy: 0.9688\n",
            "Epoch 5/15\n",
            "422/422 [==============================] - 2s 5ms/step - loss: 0.2635 - accuracy: 0.9198 - val_loss: 0.1031 - val_accuracy: 0.9733\n",
            "Epoch 6/15\n",
            "422/422 [==============================] - 2s 5ms/step - loss: 0.2535 - accuracy: 0.9233 - val_loss: 0.0989 - val_accuracy: 0.9745\n",
            "Epoch 7/15\n",
            "422/422 [==============================] - 2s 5ms/step - loss: 0.2377 - accuracy: 0.9269 - val_loss: 0.0972 - val_accuracy: 0.9747\n",
            "Epoch 8/15\n",
            "422/422 [==============================] - 2s 4ms/step - loss: 0.2309 - accuracy: 0.9289 - val_loss: 0.0904 - val_accuracy: 0.9768\n",
            "Epoch 9/15\n",
            "422/422 [==============================] - 2s 4ms/step - loss: 0.2319 - accuracy: 0.9293 - val_loss: 0.0899 - val_accuracy: 0.9773\n",
            "Epoch 10/15\n",
            "422/422 [==============================] - 3s 6ms/step - loss: 0.2231 - accuracy: 0.9308 - val_loss: 0.0853 - val_accuracy: 0.9785\n",
            "Epoch 11/15\n",
            "422/422 [==============================] - 2s 5ms/step - loss: 0.2184 - accuracy: 0.9324 - val_loss: 0.0877 - val_accuracy: 0.9795\n",
            "Epoch 12/15\n",
            "422/422 [==============================] - 2s 4ms/step - loss: 0.2117 - accuracy: 0.9343 - val_loss: 0.0815 - val_accuracy: 0.9793\n",
            "Epoch 13/15\n",
            "422/422 [==============================] - 2s 4ms/step - loss: 0.2062 - accuracy: 0.9352 - val_loss: 0.0802 - val_accuracy: 0.9790\n",
            "Epoch 14/15\n",
            "422/422 [==============================] - 2s 4ms/step - loss: 0.2087 - accuracy: 0.9354 - val_loss: 0.0761 - val_accuracy: 0.9805\n",
            "Epoch 15/15\n",
            "422/422 [==============================] - 2s 4ms/step - loss: 0.2011 - accuracy: 0.9388 - val_loss: 0.0735 - val_accuracy: 0.9818\n"
          ]
        },
        {
          "output_type": "execute_result",
          "data": {
            "text/plain": [
              "<keras.src.callbacks.History at 0x7909f8ca4670>"
            ]
          },
          "metadata": {},
          "execution_count": 12
        }
      ],
      "source": [
        "batch_size = 128  # Number of samples per gradient update\n",
        "epochs = 15  # Number of times to iterate over the entire training dataset\n",
        "\n",
        "# Configure the model for training\n",
        "model.compile(loss=\"categorical_crossentropy\", optimizer=\"adam\", metrics=[\"accuracy\"])\n",
        "\n",
        "# Train the model on the training data\n",
        "model.fit(x_train, y_train, batch_size=batch_size, epochs=epochs, validation_split=0.1)\n",
        "# x_train: input training data\n",
        "# y_train: target training data\n",
        "# batch_size: number of samples per gradient update\n",
        "# epochs: number of times to iterate over the entire training dataset\n",
        "# validation_split: the fraction of the training data to be used as validation data during training\n"
      ]
    },
    {
      "cell_type": "markdown",
      "metadata": {
        "id": "mN_ag1mj_U3R"
      },
      "source": [
        "## Evaluate the trained model"
      ]
    },
    {
      "cell_type": "code",
      "execution_count": 13,
      "metadata": {
        "id": "0DyaKNs9_U3S",
        "colab": {
          "base_uri": "https://localhost:8080/"
        },
        "outputId": "b8d308f9-1906-47db-af31-e6a5ba86b67d"
      },
      "outputs": [
        {
          "output_type": "stream",
          "name": "stdout",
          "text": [
            "Test accuracy: 0.9776999950408936\n"
          ]
        }
      ],
      "source": [
        "score = model.evaluate(x_test, y_test, verbose=0)\n",
        "print(\"Test accuracy:\", score[1])"
      ]
    }
  ],
  "metadata": {
    "accelerator": "GPU",
    "colab": {
      "provenance": [],
      "toc_visible": true,
      "gpuType": "T4"
    },
    "kernelspec": {
      "display_name": "Python 3",
      "language": "python",
      "name": "python3"
    },
    "language_info": {
      "codemirror_mode": {
        "name": "ipython",
        "version": 3
      },
      "file_extension": ".py",
      "mimetype": "text/x-python",
      "name": "python",
      "nbconvert_exporter": "python",
      "pygments_lexer": "ipython3",
      "version": "3.7.0"
    },
    "gpuClass": "standard"
  },
  "nbformat": 4,
  "nbformat_minor": 0
}